{
 "cells": [
  {
   "cell_type": "code",
   "execution_count": 1,
   "metadata": {},
   "outputs": [],
   "source": [
    "import re\n",
    "import nltk\n",
    "from nltk import word_tokenize"
   ]
  },
  {
   "cell_type": "code",
   "execution_count": 4,
   "metadata": {},
   "outputs": [
    {
     "name": "stdout",
     "output_type": "stream",
     "text": [
      "['Lúi', 'liền', 'lúi', ',', 'sông', 'liền', 'song']\n"
     ]
    }
   ],
   "source": [
    "string = 'Lúi liền lúi, sông liền song'\n",
    "list = word_tokenize(string)\n",
    "print(list)"
   ]
  },
  {
   "cell_type": "code",
   "execution_count": 6,
   "metadata": {},
   "outputs": [
    {
     "name": "stdout",
     "output_type": "stream",
     "text": [
      "['Núi', 'liền', 'núi', ',', 'sông', 'liền', 'sông']\n"
     ]
    }
   ],
   "source": [
    "i = 0 \n",
    "while i < len(list):\n",
    "    if list[i] == \"Lúi\":\n",
    "        list[i] = \"Núi\"\n",
    "    if list[i] == \"lúi\":\n",
    "        list[i] = \"núi\"\n",
    "    if list[i] == \"song\":\n",
    "        list[i] = \"sông\"\n",
    "\n",
    "    i+=1\n",
    "\n",
    "print(list)"
   ]
  },
  {
   "cell_type": "code",
   "execution_count": 7,
   "metadata": {},
   "outputs": [
    {
     "data": {
      "text/plain": [
       "'Núi liền núi , sông liền sông'"
      ]
     },
     "execution_count": 7,
     "metadata": {},
     "output_type": "execute_result"
    }
   ],
   "source": [
    "' '.join(list)"
   ]
  },
  {
   "cell_type": "code",
   "execution_count": 3,
   "metadata": {},
   "outputs": [],
   "source": [
    "import tkinter as tk\n",
    "from tkinter import *\n",
    "from tkinter.ttk import *\n",
    "from tkinter.font import *\n",
    "\n",
    "window = Tk()\n",
    "window.title('Test')\n",
    "window.geometry('800x600')\n",
    "label1 = Label(window, text='Yuura', font=('Times New Roman', 40))\n",
    "label1.grid(column=0,row=0)\n",
    "label2 = Label(window, text='Inami', font=('Times New Roman', 40))\n",
    "label2.grid(column=1,row=0)\n",
    "\n",
    "window.mainloop()"
   ]
  }
 ],
 "metadata": {
  "kernelspec": {
   "display_name": "Python 3",
   "language": "python",
   "name": "python3"
  },
  "language_info": {
   "codemirror_mode": {
    "name": "ipython",
    "version": 3
   },
   "file_extension": ".py",
   "mimetype": "text/x-python",
   "name": "python",
   "nbconvert_exporter": "python",
   "pygments_lexer": "ipython3",
   "version": "3.10.5"
  },
  "orig_nbformat": 4,
  "vscode": {
   "interpreter": {
    "hash": "2daa6c88faa66e226c755852904ef6f3c7f43da7c34cc68791ac993bb048e8a8"
   }
  }
 },
 "nbformat": 4,
 "nbformat_minor": 2
}
