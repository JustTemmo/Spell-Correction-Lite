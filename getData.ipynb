{
 "cells": [
  {
   "cell_type": "code",
   "execution_count": 1,
   "metadata": {},
   "outputs": [],
   "source": [
    "from urllib.request import urlopen\n",
    "from bs4 import BeautifulSoup\n",
    "import re\n",
    "\n",
    "#trang web lấy dữ liệu\n",
    "URL = 'https://vnexpress.net'\n",
    "\n",
    "\n",
    "def getLink(url):\n",
    "    links = []\n",
    "    html = urlopen(url).read()\n",
    "    soup = BeautifulSoup(html, 'html.parser')\n",
    "\n",
    "    #lấy đường dẫn hiện tại\n",
    "    urls = set(re.findall(\n",
    "        r'(?:http|https|ftp):\\/\\/(?:[\\w_-]+(?:(?:\\.[\\w_-]+)+))(?:[\\w.,@?^=%&:/~+#-]*[\\w@?^=%&/~+#-])', str(soup)))\n",
    "\n",
    "    for url in urls:\n",
    "        #chỉ lấy web chứa báo\n",
    "        if url != URL and url.startswith(URL) and not url.startswith(URL + '/tac-gia') and url.endswith('.html'):\n",
    "            links.append(url)\n",
    "    \n",
    "    return links"
   ]
  },
  {
   "cell_type": "code",
   "execution_count": 2,
   "metadata": {},
   "outputs": [
    {
     "data": {
      "text/plain": [
       "['https://vnexpress.net/ten-hag-man-utd-co-co-hoi-lon-vao-top-4-4552320.html',\n",
       " 'https://vnexpress.net/giang-sinh-cua-mot-linh-muc-cong-giao-4552259.html',\n",
       " 'https://vnexpress.net/tien-so-dung-truoc-nga-ba-duong-4550654.html',\n",
       " 'https://vnexpress.net/muc-tieu-khong-tron-ven-cua-ong-zelensky-trong-chuyen-tham-my-4551637.html',\n",
       " 'https://vnexpress.net/nguoi-ha-noi-tp-hcm-do-ra-duong-don-giang-sinh-4552288.html',\n",
       " 'https://vnexpress.net/an-do-kho-soan-vi-the-cong-xuong-the-gioi-cua-trung-quoc-4547493.html',\n",
       " 'https://vnexpress.net/thuong-tet-o-ha-noi-cao-nhat-400-trieu-dong-4552240.html',\n",
       " 'https://vnexpress.net/myanmar-thua-nguoc-singapore-o-aff-cup-2022-4552281.html',\n",
       " 'https://vnexpress.net/be-quyen-toi-buon-vi-phu-long-khan-gia-4552245.html',\n",
       " 'https://vnexpress.net/hoa-hau-thanh-thuy-toi-xung-dang-dang-quang-4552140.html',\n",
       " 'https://vnexpress.net/niem-vui-be-bong-4552034.html',\n",
       " 'https://vnexpress.net/cuu-bi-thu-tinh-uy-dong-nai-bi-de-nghi-10-11-nam-tu-4552130.html',\n",
       " 'https://vnexpress.net/thanh-le-giang-sinh-o-nha-tho-duc-ba-4552311.html',\n",
       " 'https://vnexpress.net/malaysia-chiem-dau-bang-cua-viet-nam-4552292.html',\n",
       " 'https://vnexpress.net/gia-co-cot-gon-truoc-tran-viet-nam-malaysia-o-aff-cup-2022-4552266.html',\n",
       " 'https://vnexpress.net/bac-si-ngoai-bi-tuoc-chung-chi-hanh-nghe-vi-chua-benh-vu-loi-4552297.html',\n",
       " 'https://vnexpress.net/moi-gioi-dom-lua-ban-dat-4552278.html',\n",
       " 'https://vnexpress.net/do-thi-ha-toi-khoc-o-chung-ket-hoa-hau-viet-nam-vi-that-voi-cam-xuc-4552218.html',\n",
       " 'https://vnexpress.net/bo-tu-lenh-bac-my-truy-dau-ong-gia-noel-4552284.html',\n",
       " 'https://vnexpress.net/thu-tuong-ga-t3-tan-son-nhat-phai-dung-tien-do-khong-doi-von-4552238.html',\n",
       " 'https://vnexpress.net/ky-hop-bat-thuong-cua-quoc-hoi-co-noi-dung-nhan-su-4552280.html',\n",
       " 'https://vnexpress.net/nghien-cuu-loc-nuoc-nhiem-asen-gia-re-cua-giao-su-an-do-4550750.html',\n",
       " 'https://vnexpress.net/ba-nhan-aic-bo-tron-luat-su-bao-chua-the-nao-4552249.html',\n",
       " 'https://vnexpress.net/truy-bat-thanh-cong-ke-dung-sung-ban-tra-cong-an-son-la-4552308.html',\n",
       " 'https://vnexpress.net/han-man-den-som-o-mien-tay-4552047.html']"
      ]
     },
     "execution_count": 2,
     "metadata": {},
     "output_type": "execute_result"
    }
   ],
   "source": [
    "getLink(URL)"
   ]
  },
  {
   "cell_type": "code",
   "execution_count": 3,
   "metadata": {},
   "outputs": [
    {
     "name": "stdout",
     "output_type": "stream",
     "text": [
      "thoi-su 302\n",
      "kinh-doanh 320\n",
      "khoa-hoc 308\n",
      "giai-tri 306\n",
      "the-thao 312\n",
      "phap-luat 309\n",
      "giao-duc 308\n",
      "suc-khoe 320\n",
      "doi-song 310\n",
      "du-lich 322\n",
      "so-hoa 312\n",
      "goc-nhin 91\n"
     ]
    }
   ],
   "source": [
    "categories = ['thoi-su','kinh-doanh','khoa-hoc','giai-tri','the-thao','phap-luat','giao-duc','suc-khoe','doi-song','du-lich','so-hoa']\n",
    "articleURL = {}\n",
    "\n",
    "for category in categories:\n",
    "    articleURL[category] = []\n",
    "\n",
    "    for i in range(1,11):\n",
    "        url = '{}/{}-p{}'.format(URL, category, str(i))\n",
    "        articleURL[category] += getLink(url)\n",
    "\n",
    "    articleURL[category] = list(set(articleURL[category]))\n",
    "\n",
    "    print(category, len(articleURL[category]))\n",
    "\n",
    "gocNhin = ['binh-luan-nhieu','covid-19','chinh-tri-chinh-sach','y-te-suc-khoe','kinh-doanh-quan-tri','giao-duc-tri-thuc','moi-truong','van-hoa-loi-song']\n",
    "articleURL['goc-nhin'] = []\n",
    "\n",
    "for subCate in gocNhin:\n",
    "    url = '{}/{}/{}'.format(URL, 'goc-nhin', subCate)\n",
    "    articleURL['goc-nhin'] += getLink(url)\n",
    "\n",
    "articleURL['goc-nhin'] = list(set(articleURL['goc-nhin']))\n",
    "print('goc-nhin', len(articleURL['goc-nhin']))\n"
   ]
  },
  {
   "cell_type": "code",
   "execution_count": 4,
   "metadata": {},
   "outputs": [],
   "source": [
    "def getContent(url):\n",
    "    content = ''\n",
    "    html = urlopen(url).read()\n",
    "    soup = BeautifulSoup(html, 'html.parser')\n",
    "\n",
    "    divContent = soup.select('.page-detail .container')\n",
    "    if len(divContent) > 0 :\n",
    "        divContent = divContent[0]\n",
    "\n",
    "        description = divContent.find_all('p', {'class': 'description'})\n",
    "        if len(description) > 0:\n",
    "            description = description[-1]\n",
    "            textDescription = description.get_text()\n",
    "            location = description.find('span', {'class': 'location-span'})\n",
    "            if location is not None:\n",
    "                content = textDescription[len(location.get_text()):]\n",
    "            else:\n",
    "                content = textDescription\n",
    "\n",
    "        detail = divContent.find('article', {'class': 'fck_detail'})\n",
    "        if detail is not None:\n",
    "            p_normal = detail.find_all('p', {'class': 'Normal'})\n",
    "            if len(p_normal) > 0:\n",
    "                for p in p_normal:\n",
    "                    p_text = p.get_text()\n",
    "                    if p_text != '' and not p_text.startswith('>>') and p_text[-1] in ['.','!','?']:\n",
    "                        content += ' ' + p.get_text()\n",
    "\n",
    "    return re.sub(r'\\n',' ', content)"
   ]
  },
  {
   "cell_type": "code",
   "execution_count": 5,
   "metadata": {},
   "outputs": [
    {
     "data": {
      "text/plain": [
       "'Cố gắng học theo công thức, lệ thuộc bài viết mẫu, dùng từ vựng cao siêu, là những sai lầm thường gặp khi thí sinh học IELTS Writing. Writing (Viết) là một trong bốn kỹ năng của bài thi IELTS (hệ thống kiểm tra Anh ngữ quốc tế, gồm: Nghe, Nói, Đọc, Viết). Bài thi Writing gồm 2 phần: Task 1 - Bài viết miêu tả và tóm tắt thông tin trong biểu đồ, hình vẽ và Task 2 - Bài viết nghị luận (Argumentative) về một chủ đề cho trước. Đối với nhiều thí sinh, đây là phần thi khó nhất trong bốn kỹ năng. Từng thi nhiều lần đạt IELTS 8.5, anh Đinh Quang Tùng, ở TP HCM, chia sẻ 5 sai lầm thường gặp khi học IELTS Writing. Nhiều bạn lầm tưởng rằng bài thi IELTS Writing có những công thức giúp đạt được các band điểm khác nhau. - The widespread problem of + vấn đề trong bài + has long been a major topic of concern in society. - Along with the development of society, + vấn đề trong bài + has become a topic of heated debate/a topic of controversy/a controversial topic. Công thức trên không có vấn đề gì về ngữ pháp, tuy nhiên cách nó diễn đạt không thật sự phù hợp với bài IELTS vì các chủ đề trong IELTS không mang tính \"gây tranh cãi\" (controversial). Thực tế, không có bất kỳ công thức nào để đạt điểm Writing cao ngoài việc giỏi tiếng Anh và rèn luyện khả năng tư duy logic. Cụ thể, từ band 7 trở lên, thí sinh được yêu cầu \"sắp xếp thông tin và ý tưởng một cách có logic\" (logically organises information and ideas) và \"trình bày lập trường rõ ràng xuyên suốt bài viết\" (presents a clear position throughout the response). Câu hỏi giữa các đề thi có thể giống nhau nhưng nội dung và cách tiếp cận lại hoàn toàn khác, nên logic và lập trường mà người viết đưa ra cũng phải khác nhau. Tham khảo nhiều bài mẫu nhất có thể để lấy ý tưởng trước khi viết cũng là cách làm của nhiều thí sinh. Tuy nhiên, việc này thường không giúp cải thiện kỹ năng viết mà còn làm nó tệ hơn vì bạn đang đi diễn đạt lại bài của người khác. Ngoài ra, không phải bài mẫu nào cũng đáng tin cậy, có rất nhiều bài Writing chỉ đạt 6-6.5 điểm nhưng vẫn được gán mác 7.5 - 8.0 điểm. Do đó, khi luyện viết, các bạn nên tham khảo bài mẫu sau khi đã hoàn thiện bài của mình. Mục đích của việc này là để tham khảo thêm các cách tiếp cận khác nhau với cùng một đề bài và học thêm từ vựng. Ngoài ra, khi đọc bài mẫu, thí sinh cũng nên chọn những nguồn đáng tin cậy (ví dụ như nguồn trực tiếp từ tổ chức Cambridge). Nhiều bạn cho rằng bài thi IELTS mang tính \"Academic\" (học thuật) nên các từ vựng sử dụng trong bài viết \"không được tầm thường\", từ vựng khó, hiếm hơn mức bình thường là điểm sẽ cao. Thực tế, từ vựng (Lexical Resource) là một trong bốn tiêu chí của bài thi IELTS Writing. Tuy nhiên, trong tiêu chí này, kể cả ở band điểm 7, 8, 9 cũng chỉ nhấn mạnh vào việc sử dụng từ vựng linh hoạt (flexibly), chính xác (precisely) và phù hợp (appropriately), không có bất kỳ yêu cầu nào về việc phải sử dụng từ cao siêu hoặc những từ ít ai biết. Ngoài ra, việc tập trung quá nhiều vào từ vựng có thể làm cho nội dung trở nên kém rõ ràng, rời rạc. Khi luyện viết, các bạn nên tập trung vào việc xác định rõ lập luận của bản thân và nội dung mà mình muốn truyền đạt, sau đó lựa chọn từ vựng phù hợp. Thí sinh cần cố gắng viết sao cho dễ đọc nhất có thể, không nên tham lam các từ vựng cao siêu. Không ít người cho rằng học tiếng Anh và IELTS là 2 việc khác nhau. Học IELTS là để thi và học tiếng Anh là để dùng. Thực tế, IELTS là bài thi đánh giá khả năng sử dụng ngôn ngữ tiếng Anh. Phần tiếng Anh trong bài thi giống như nền móng và cột của ngôi nhà. Bạn có thể đạt được điểm cao nhờ giỏi tiếng Anh dù không biết quá nhiều các kỹ thuật làm bài, nhưng chắc chắn bạn sẽ không bao giờ làm được điều đó nếu bỏ qua phần ngôn ngữ mà chỉ học các mẹo để thi. Có kiến thức chắc chắn thì việc học Writing hay các kỹ năng khác trong IELTS sẽ dễ dàng hơn nhiều. Do đó, nếu kiến thức nền tảng chưa vững, người học hãy dành thời gian củng cố trước khi luyện thi. Vì \"học tủ\", nhiều thí sinh lao ngay vào viết khi bắt gặp chủ đề quen thuộc trong đề bài mà không phân tích kỹ. Tuy nhiên, việc phân tích đề bài rất quan trọng do nó cung cấp định hướng để lập luận trong bài viết. Chỉ cần đề bài thay đổi một từ cũng có thể dẫn bài viết đi theo hướng khác. 1. \"Environmental problems\" bao gồm những vấn đề gì? 2. Việc tăng giá nhiên liệu có liên quan gì đến những vấn đề trên không? Và nó có phải cách tốt nhất để giải quyết các vấn đề này không? Việc trả lời các câu hỏi này sẽ giúp bài viết đi đúng hướng, không bị sa đà vào những câu chuyện không liên quan. Đó là ví dụ cho thấy người học nên đọc và phân tích kỹ đề bài trước khi viết.'"
      ]
     },
     "execution_count": 5,
     "metadata": {},
     "output_type": "execute_result"
    }
   ],
   "source": [
    "getContent(articleURL['giao-duc'][0])"
   ]
  },
  {
   "cell_type": "code",
   "execution_count": 6,
   "metadata": {},
   "outputs": [
    {
     "name": "stdout",
     "output_type": "stream",
     "text": [
      "thoi-su 300\n",
      "kinh-doanh 317\n",
      "khoa-hoc 308\n",
      "giai-tri 306\n",
      "the-thao 305\n",
      "phap-luat 309\n",
      "giao-duc 306\n",
      "suc-khoe 320\n",
      "doi-song 287\n",
      "du-lich 319\n",
      "so-hoa 309\n",
      "goc-nhin 91\n",
      "Tổng số câu tách được :  78565\n"
     ]
    }
   ],
   "source": [
    "import os\n",
    "\n",
    "sentence = []\n",
    "uppercase = 'AÁÀẢÃẠÂẤẦẨẪẬĂẮẰẲẴẶBCDĐEÉÈẺẼẸÊẾỀỂỄỆFGHIÍÌỈĨỊJKLMNOÓÒỎÕỌÔỐỒỔỖỘƠỚỜỞỠỢPQRSTUÚÙỦŨỤƯỨỪỬỮỰVWXYÝỲỶỸỴZ'\n",
    "\n",
    "for category in articleURL.keys():\n",
    "    \n",
    "    currentPath = './Data/Categories/' + category + '/'\n",
    "    os.mkdir(currentPath)\n",
    "    \n",
    "    count = 0\n",
    "    for i in range(len(articleURL[category])):\n",
    "        content = getContent(articleURL[category][i])\n",
    "        if content != '':\n",
    "            count += 1\n",
    "            f = open('{}/{}_{}.txt'.format(currentPath, category, str(count)), 'w', encoding='utf-8')\n",
    "\n",
    "            lines = re.sub(r'(?<=[.?!])(?=[\\'\"`]*[' + uppercase + '-])', ' ', content)\n",
    "\n",
    "            lines = re.split(r'(?<=[.?!])\\s+(?=[\\'\"`]*[' + uppercase + '0-9-])', content)\n",
    "\n",
    "            for line in lines:\n",
    "                f.write(line + '\\n')\n",
    "                sentence.append(line)\n",
    "            f.close()\n",
    "    \n",
    "    print(category, count)\n",
    "\n",
    "sentence = list(set(sentence))\n",
    "print('Tổng số câu tách được : ', len(sentence))\n"
   ]
  },
  {
   "cell_type": "code",
   "execution_count": 7,
   "metadata": {},
   "outputs": [
    {
     "name": "stdout",
     "output_type": "stream",
     "text": [
      "78565\n"
     ]
    }
   ],
   "source": [
    "fileCorpus = open('./corpus.txt','w', encoding='utf-8')\n",
    "\n",
    "count = 0 \n",
    "for sent in sentence:\n",
    "    sent = re.sub(r'\\u200b', '', sent)\n",
    "    fileCorpus.write(sent.strip() + '\\n')\n",
    "    count += 1\n",
    "fileCorpus.close()\n",
    "\n",
    "print(count)"
   ]
  }
 ],
 "metadata": {
  "kernelspec": {
   "display_name": "Python 3",
   "language": "python",
   "name": "python3"
  },
  "language_info": {
   "codemirror_mode": {
    "name": "ipython",
    "version": 3
   },
   "file_extension": ".py",
   "mimetype": "text/x-python",
   "name": "python",
   "nbconvert_exporter": "python",
   "pygments_lexer": "ipython3",
   "version": "3.10.5 (tags/v3.10.5:f377153, Jun  6 2022, 16:14:13) [MSC v.1929 64 bit (AMD64)]"
  },
  "orig_nbformat": 4,
  "vscode": {
   "interpreter": {
    "hash": "2daa6c88faa66e226c755852904ef6f3c7f43da7c34cc68791ac993bb048e8a8"
   }
  }
 },
 "nbformat": 4,
 "nbformat_minor": 2
}
