{
 "cells": [
  {
   "cell_type": "code",
   "execution_count": 5,
   "metadata": {},
   "outputs": [],
   "source": [
    "import re\n",
    "import nltk \n",
    "from nltk import word_tokenize\n"
   ]
  },
  {
   "cell_type": "code",
   "execution_count": 1,
   "metadata": {},
   "outputs": [],
   "source": [
    "def correctSpell(inputString):\n",
    "    words = inputString.split()\n",
    "    pattern = r'[^\\u0041-\\u1EF9]'\n",
    "    incorrectWords = [word for word in words if re.search(pattern, word)]\n",
    "    correctedWords = []\n",
    "    for word in words:\n",
    "        if word in incorrectWords:\n",
    "            correctedWord = correctedWords(word)\n",
    "            correctedWords.append(correctedWord)\n",
    "        else:\n",
    "            correctedWords.append(word)\n",
    "    correctedStrings = ''.join(correctedWords)\n",
    "    return correctedStrings"
   ]
  },
  {
   "cell_type": "code",
   "execution_count": 7,
   "metadata": {},
   "outputs": [],
   "source": [
    "def correctWord(word):\n",
    "    correctedWord = word.replace('l','n')\n",
    "    correctedWord = correctedWord.replace('L','N')\n",
    "    correctedWord = correctedWord.replace('o','ô')\n",
    "    correctedWord = correctedWord.replace('ho','nho')\n",
    "    correctedWord = correctedWord.replace('giaỉ','giải')\n",
    "    correctedWord = correctedWord.replace('dichj','dịch')\n",
    "\n",
    "    return correctedWord"
   ]
  },
  {
   "cell_type": "code",
   "execution_count": 8,
   "metadata": {},
   "outputs": [
    {
     "ename": "TypeError",
     "evalue": "'list' object is not callable",
     "output_type": "error",
     "traceback": [
      "\u001b[1;31m---------------------------------------------------------------------------\u001b[0m",
      "\u001b[1;31mTypeError\u001b[0m                                 Traceback (most recent call last)",
      "Cell \u001b[1;32mIn [8], line 2\u001b[0m\n\u001b[0;32m      1\u001b[0m inputString \u001b[39m=\u001b[39m \u001b[39m\"\u001b[39m\u001b[39mLúi liền lúi, sông liền song\u001b[39m\u001b[39m\"\u001b[39m\n\u001b[1;32m----> 2\u001b[0m correctedString \u001b[39m=\u001b[39m correctSpell(inputString)\n\u001b[0;32m      3\u001b[0m \u001b[39mprint\u001b[39m(correctedString)\n",
      "Cell \u001b[1;32mIn [1], line 8\u001b[0m, in \u001b[0;36mcorrectSpell\u001b[1;34m(inputString)\u001b[0m\n\u001b[0;32m      6\u001b[0m \u001b[39mfor\u001b[39;00m word \u001b[39min\u001b[39;00m words:\n\u001b[0;32m      7\u001b[0m     \u001b[39mif\u001b[39;00m word \u001b[39min\u001b[39;00m incorrectWords:\n\u001b[1;32m----> 8\u001b[0m         correctedWord \u001b[39m=\u001b[39m correctedWords(word)\n\u001b[0;32m      9\u001b[0m         correctedWords\u001b[39m.\u001b[39mappend(correctedWord)\n\u001b[0;32m     10\u001b[0m     \u001b[39melse\u001b[39;00m:\n",
      "\u001b[1;31mTypeError\u001b[0m: 'list' object is not callable"
     ]
    }
   ],
   "source": [
    "inputString = \"Lúi liền lúi, sông liền song\"\n",
    "correctedString = correctSpell(inputString)\n",
    "print(correctedString)"
   ]
  }
 ],
 "metadata": {
  "kernelspec": {
   "display_name": "Python 3",
   "language": "python",
   "name": "python3"
  },
  "language_info": {
   "codemirror_mode": {
    "name": "ipython",
    "version": 3
   },
   "file_extension": ".py",
   "mimetype": "text/x-python",
   "name": "python",
   "nbconvert_exporter": "python",
   "pygments_lexer": "ipython3",
   "version": "3.10.5"
  },
  "orig_nbformat": 4,
  "vscode": {
   "interpreter": {
    "hash": "2daa6c88faa66e226c755852904ef6f3c7f43da7c34cc68791ac993bb048e8a8"
   }
  }
 },
 "nbformat": 4,
 "nbformat_minor": 2
}
