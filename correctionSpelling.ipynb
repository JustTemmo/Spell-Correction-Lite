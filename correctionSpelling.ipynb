{
 "cells": [
  {
   "cell_type": "code",
   "execution_count": 1,
   "metadata": {},
   "outputs": [],
   "source": [
    "from collections import Counter\n",
    "from keras.models import load_model\n",
    "import nltk\n",
    "import numpy as np\n",
    "import re\n",
    "\n",
    "model = load_model('./model_0.9858.h5')\n",
    "\n",
    "NGRAM = 5\n",
    "MAXLEN = 39\n",
    "\n",
    "alphabet = ['\\x00',' '] + list('0123456789aAâÂăĂbBèÈềỀiIkKóÓốỐớỚqQùÙáÁấẤắẮcCfFẹẸệỆíÍjJòÒồỒờỜrRủỦàÀầẦằẰdDẽẼễỄìÌlLọỌộỘợỢsSũŨạẠậẬặẶđĐẻẺểỂịỊmMõÕỗỖỡỠtTụỤãÃẫẪẵẴeEêÊgGĩĨnNỏỎổỔởỞuUưƯảẢẩẨẳẲéÉếẾhHỉỈoOôÔơƠpPúÚứỨừỪvVýÝỵỴửỬwWỳỲzZữỮxXỷỶựỰyYỹỸ')"
   ]
  },
  {
   "cell_type": "code",
   "execution_count": 24,
   "metadata": {},
   "outputs": [],
   "source": [
    "def encoderData(text):\n",
    "    x = np.zeros((MAXLEN, len(alphabet)))\n",
    "    for i, c in enumerate(text[:MAXLEN]):\n",
    "        x[i, alphabet.index(c)] = 1\n",
    "    if i < MAXLEN - 1:\n",
    "        for j in range(i + 1, MAXLEN):\n",
    "            x[j, 0] = 1\n",
    "    return x\n",
    "\n",
    "def decoderData(x):\n",
    "    x = x.argmax(axis = -1)\n",
    "    return ''.join(alphabet[i] for i in x)"
   ]
  },
  {
   "cell_type": "code",
   "execution_count": 25,
   "metadata": {},
   "outputs": [
    {
     "name": "stdout",
     "output_type": "stream",
     "text": [
      "(39, 198)\n",
      "Tôi yêu bạn\u0000\u0000\u0000\u0000\u0000\u0000\u0000\u0000\u0000\u0000\u0000\u0000\u0000\u0000\u0000\u0000\u0000\u0000\u0000\u0000\u0000\u0000\u0000\u0000\u0000\u0000\u0000\u0000\n"
     ]
    }
   ],
   "source": [
    "print(encoderData('Tôi yêu bạn').shape)\n",
    "print(decoderData(encoderData('Tôi yêu bạn')))"
   ]
  },
  {
   "cell_type": "code",
   "execution_count": 26,
   "metadata": {},
   "outputs": [],
   "source": [
    "def nltkNGRAMS(sentence, n, maxlen):\n",
    "    listNGRAMS = []\n",
    "    listWords = sentence.split()\n",
    "    numWords = len(listWords)\n",
    "\n",
    "    if (numWords >= n):\n",
    "        for ngram in nltk.ngrams(listWords, n):\n",
    "            if len(' '.join(ngram)) <= maxlen:\n",
    "                listNGRAMS.append(ngram)\n",
    "    else:\n",
    "        listNGRAMS.append(tuple(listWords))\n",
    "\n",
    "    return listNGRAMS"
   ]
  },
  {
   "cell_type": "code",
   "execution_count": 27,
   "metadata": {},
   "outputs": [],
   "source": [
    "def guess(ngram):\n",
    "    text = ' '.join(ngram)\n",
    "    preds = model.predict(np.array([encoderData(text)]))\n",
    "\n",
    "    return decoderData(preds[0]).strip('\\x00')"
   ]
  },
  {
   "cell_type": "code",
   "execution_count": 28,
   "metadata": {},
   "outputs": [
    {
     "ename": "ValueError",
     "evalue": "in user code:\n\n    File \"c:\\Users\\DELL 7510\\AppData\\Local\\Programs\\Python\\Python310\\lib\\site-packages\\keras\\engine\\training.py\", line 2137, in predict_function  *\n        return step_function(self, iterator)\n    File \"c:\\Users\\DELL 7510\\AppData\\Local\\Programs\\Python\\Python310\\lib\\site-packages\\keras\\engine\\training.py\", line 2123, in step_function  **\n        outputs = model.distribute_strategy.run(run_step, args=(data,))\n    File \"c:\\Users\\DELL 7510\\AppData\\Local\\Programs\\Python\\Python310\\lib\\site-packages\\keras\\engine\\training.py\", line 2111, in run_step  **\n        outputs = model.predict_step(data)\n    File \"c:\\Users\\DELL 7510\\AppData\\Local\\Programs\\Python\\Python310\\lib\\site-packages\\keras\\engine\\training.py\", line 2079, in predict_step\n        return self(x, training=False)\n    File \"c:\\Users\\DELL 7510\\AppData\\Local\\Programs\\Python\\Python310\\lib\\site-packages\\keras\\utils\\traceback_utils.py\", line 70, in error_handler\n        raise e.with_traceback(filtered_tb) from None\n    File \"c:\\Users\\DELL 7510\\AppData\\Local\\Programs\\Python\\Python310\\lib\\site-packages\\keras\\engine\\input_spec.py\", line 295, in assert_input_compatibility\n        raise ValueError(\n\n    ValueError: Input 0 of layer \"sequential_1\" is incompatible with the layer: expected shape=(None, 40, 199), found shape=(None, 39, 198)\n",
     "output_type": "error",
     "traceback": [
      "\u001b[1;31m---------------------------------------------------------------------------\u001b[0m",
      "\u001b[1;31mValueError\u001b[0m                                Traceback (most recent call last)",
      "Cell \u001b[1;32mIn [28], line 1\u001b[0m\n\u001b[1;32m----> 1\u001b[0m guess((\u001b[39m'\u001b[39;49m\u001b[39mTooi\u001b[39;49m\u001b[39m'\u001b[39;49m,\u001b[39m'\u001b[39;49m\u001b[39mchuoois\u001b[39;49m\u001b[39m'\u001b[39;49m))\n",
      "Cell \u001b[1;32mIn [27], line 3\u001b[0m, in \u001b[0;36mguess\u001b[1;34m(ngram)\u001b[0m\n\u001b[0;32m      1\u001b[0m \u001b[39mdef\u001b[39;00m \u001b[39mguess\u001b[39m(ngram):\n\u001b[0;32m      2\u001b[0m     text \u001b[39m=\u001b[39m \u001b[39m'\u001b[39m\u001b[39m \u001b[39m\u001b[39m'\u001b[39m\u001b[39m.\u001b[39mjoin(ngram)\n\u001b[1;32m----> 3\u001b[0m     preds \u001b[39m=\u001b[39m model\u001b[39m.\u001b[39;49mpredict(np\u001b[39m.\u001b[39;49marray([encoderData(text)]))\n\u001b[0;32m      5\u001b[0m     \u001b[39mreturn\u001b[39;00m decoderData(preds[\u001b[39m0\u001b[39m])\u001b[39m.\u001b[39mstrip(\u001b[39m'\u001b[39m\u001b[39m\\x00\u001b[39;00m\u001b[39m'\u001b[39m)\n",
      "File \u001b[1;32mc:\\Users\\DELL 7510\\AppData\\Local\\Programs\\Python\\Python310\\lib\\site-packages\\keras\\utils\\traceback_utils.py:70\u001b[0m, in \u001b[0;36mfilter_traceback.<locals>.error_handler\u001b[1;34m(*args, **kwargs)\u001b[0m\n\u001b[0;32m     67\u001b[0m     filtered_tb \u001b[39m=\u001b[39m _process_traceback_frames(e\u001b[39m.\u001b[39m__traceback__)\n\u001b[0;32m     68\u001b[0m     \u001b[39m# To get the full stack trace, call:\u001b[39;00m\n\u001b[0;32m     69\u001b[0m     \u001b[39m# `tf.debugging.disable_traceback_filtering()`\u001b[39;00m\n\u001b[1;32m---> 70\u001b[0m     \u001b[39mraise\u001b[39;00m e\u001b[39m.\u001b[39mwith_traceback(filtered_tb) \u001b[39mfrom\u001b[39;00m \u001b[39mNone\u001b[39m\n\u001b[0;32m     71\u001b[0m \u001b[39mfinally\u001b[39;00m:\n\u001b[0;32m     72\u001b[0m     \u001b[39mdel\u001b[39;00m filtered_tb\n",
      "File \u001b[1;32mC:\\Users\\DELL75~1\\AppData\\Local\\Temp\\__autograph_generated_file8ih3o8_x.py:15\u001b[0m, in \u001b[0;36mouter_factory.<locals>.inner_factory.<locals>.tf__predict_function\u001b[1;34m(iterator)\u001b[0m\n\u001b[0;32m     13\u001b[0m \u001b[39mtry\u001b[39;00m:\n\u001b[0;32m     14\u001b[0m     do_return \u001b[39m=\u001b[39m \u001b[39mTrue\u001b[39;00m\n\u001b[1;32m---> 15\u001b[0m     retval_ \u001b[39m=\u001b[39m ag__\u001b[39m.\u001b[39mconverted_call(ag__\u001b[39m.\u001b[39mld(step_function), (ag__\u001b[39m.\u001b[39mld(\u001b[39mself\u001b[39m), ag__\u001b[39m.\u001b[39mld(iterator)), \u001b[39mNone\u001b[39;00m, fscope)\n\u001b[0;32m     16\u001b[0m \u001b[39mexcept\u001b[39;00m:\n\u001b[0;32m     17\u001b[0m     do_return \u001b[39m=\u001b[39m \u001b[39mFalse\u001b[39;00m\n",
      "\u001b[1;31mValueError\u001b[0m: in user code:\n\n    File \"c:\\Users\\DELL 7510\\AppData\\Local\\Programs\\Python\\Python310\\lib\\site-packages\\keras\\engine\\training.py\", line 2137, in predict_function  *\n        return step_function(self, iterator)\n    File \"c:\\Users\\DELL 7510\\AppData\\Local\\Programs\\Python\\Python310\\lib\\site-packages\\keras\\engine\\training.py\", line 2123, in step_function  **\n        outputs = model.distribute_strategy.run(run_step, args=(data,))\n    File \"c:\\Users\\DELL 7510\\AppData\\Local\\Programs\\Python\\Python310\\lib\\site-packages\\keras\\engine\\training.py\", line 2111, in run_step  **\n        outputs = model.predict_step(data)\n    File \"c:\\Users\\DELL 7510\\AppData\\Local\\Programs\\Python\\Python310\\lib\\site-packages\\keras\\engine\\training.py\", line 2079, in predict_step\n        return self(x, training=False)\n    File \"c:\\Users\\DELL 7510\\AppData\\Local\\Programs\\Python\\Python310\\lib\\site-packages\\keras\\utils\\traceback_utils.py\", line 70, in error_handler\n        raise e.with_traceback(filtered_tb) from None\n    File \"c:\\Users\\DELL 7510\\AppData\\Local\\Programs\\Python\\Python310\\lib\\site-packages\\keras\\engine\\input_spec.py\", line 295, in assert_input_compatibility\n        raise ValueError(\n\n    ValueError: Input 0 of layer \"sequential_1\" is incompatible with the layer: expected shape=(None, 40, 199), found shape=(None, 39, 198)\n"
     ]
    }
   ],
   "source": [
    "guess(('Tooi','chuoois'))"
   ]
  },
  {
   "cell_type": "code",
   "execution_count": 17,
   "metadata": {},
   "outputs": [],
   "source": [
    "def addPunctation(text, correctedText):\n",
    "    listPunctation = {}\n",
    "\n",
    "    for (i,word) in enumerate(text.split()):\n",
    "        if word[0] not in alphabet or word[-1] not in alphabet:\n",
    "            startPunc = ''\n",
    "            for c in word:\n",
    "                if c in alphabet:\n",
    "                    break\n",
    "                startPunc += c\n",
    "\n",
    "            endPunc = ''\n",
    "            for c in word:\n",
    "                if c in alphabet:\n",
    "                    break\n",
    "                endPunc += c\n",
    "            endPunc = endPunc[::-1]\n",
    "\n",
    "            listPunctation[i] = [startPunc,endPunc]\n",
    "\n",
    "    result = ''\n",
    "    for (i,word) in enumerate(correctedText.split()):\n",
    "        if i in listPunctation:\n",
    "            result += (listPunctation[i][0] + word + listPunctation[i][1]) + ' '\n",
    "        else:\n",
    "            result += word + ' '\n",
    "\n",
    "    return result.strip()"
   ]
  },
  {
   "cell_type": "code",
   "execution_count": 20,
   "metadata": {},
   "outputs": [],
   "source": [
    "def correctText(text):\n",
    "    newText = re.sub(r'[^' + ''.join(alphabet) + ']', '', text)\n",
    "\n",
    "    ngrams = list(nltkNGRAMS(newText,NGRAM,MAXLEN))\n",
    "    guessedNGRAMS = list(guess(ngram) for ngram in ngrams)\n",
    "    candidates = [Counter() for _ in range(len(guessedNGRAMS) + NGRAM - 1)]\n",
    "\n",
    "    for nid, ngram in (enumerate(guessedNGRAMS)):\n",
    "        for wid, word in (enumerate(re.split('\\s', ngram))):\n",
    "            candidates[nid+wid].update([word])\n",
    "\n",
    "    correctedText = ' '.join(c.most_common(1)[0][0] for c in candidates if c)\n",
    "    return addPunctation(text, correctedText)"
   ]
  },
  {
   "cell_type": "code",
   "execution_count": 21,
   "metadata": {},
   "outputs": [
    {
     "name": "stdout",
     "output_type": "stream",
     "text": [
      "1/1 [==============================] - 0s 39ms/step\n",
      "oooo Vỗuoois\n"
     ]
    },
    {
     "data": {
      "text/plain": [
       "[('tooi', 'oooo'), ('chuoois', 'Vỗuoois')]"
      ]
     },
     "execution_count": 21,
     "metadata": {},
     "output_type": "execute_result"
    }
   ],
   "source": [
    "text = input()\n",
    "\n",
    "result = correctText(text)\n",
    "print(result)\n",
    "\n",
    "text = re.sub(r'[^' + ''.join(alphabet) + ']', '', text)\n",
    "listText = text.split()\n",
    "\n",
    "result = re.sub(r'[^' + ''.join(alphabet) + ']', '', result)\n",
    "listResult = result.split()\n",
    "\n",
    "correctWord = [(listText[i], listResult[i]) for i in range(len(listText)) if listText[i] != listResult[i]]\n",
    "correctWord"
   ]
  },
  {
   "cell_type": "code",
   "execution_count": 22,
   "metadata": {},
   "outputs": [],
   "source": [
    "from tkinter import *\n",
    "import tkinter\n",
    "\n",
    "\n",
    "\n",
    "window = Tk()\n",
    "window.title(\"Spell Correction\")\n",
    "window.geometry(\"800x600\")\n",
    "txt = Entry(window, width=100, font=('Times New Roman',12))\n",
    "txt.grid(column=0,row=0)"
   ]
  }
 ],
 "metadata": {
  "kernelspec": {
   "display_name": "Python 3",
   "language": "python",
   "name": "python3"
  },
  "language_info": {
   "codemirror_mode": {
    "name": "ipython",
    "version": 3
   },
   "file_extension": ".py",
   "mimetype": "text/x-python",
   "name": "python",
   "nbconvert_exporter": "python",
   "pygments_lexer": "ipython3",
   "version": "3.10.5"
  },
  "orig_nbformat": 4,
  "vscode": {
   "interpreter": {
    "hash": "2daa6c88faa66e226c755852904ef6f3c7f43da7c34cc68791ac993bb048e8a8"
   }
  }
 },
 "nbformat": 4,
 "nbformat_minor": 2
}
