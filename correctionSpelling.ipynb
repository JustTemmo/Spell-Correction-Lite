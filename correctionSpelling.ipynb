{
 "cells": [
  {
   "cell_type": "code",
   "execution_count": 4,
   "metadata": {},
   "outputs": [],
   "source": [
    "from collections import Counter\n",
    "from keras.models import load_model\n",
    "import nltk\n",
    "import numpy as np\n",
    "import re\n",
    "\n",
    "model = load_model('./spell.h5')\n",
    "\n",
    "NGRAM = 5\n",
    "MAXLEN = 40\n",
    "\n",
    "alphabet = ['\\x00',' ','_'] + list('0123456789abcdefghijklmnopqrstuvwxyzáàảãạâấầẩẫậăắằẳẵặóòỏõọôốồổỗộơớờởỡợéèẻẽẹêếềểễệúùủũụưứừửữựíìỉĩịýỳỷỹỵđABCDEFGHIJKLMNOPQRSTUVWXYZÁÀẢÃẠÂẤẦẨẪẬĂẮẰẲẴẶÓÒỎÕỌÔỐỒỔỖỘƠỚỜỞỠỢÉÈẺẼẸÊẾỀỂỄỆÚÙỦŨỤƯỨỪỬỮỰÍÌỈĨỊÝỲỶỸỴĐ')"
   ]
  },
  {
   "cell_type": "code",
   "execution_count": 5,
   "metadata": {},
   "outputs": [],
   "source": [
    "def encoderData(text):\n",
    "    x = np.zeros((MAXLEN, len(alphabet)))\n",
    "    for i, c in enumerate(text[:MAXLEN]):\n",
    "        x[i, alphabet.index(c)] = 1\n",
    "    if i < MAXLEN - 1:\n",
    "        for j in range(i + 1, MAXLEN):\n",
    "            x[j, 0] = 1\n",
    "    return x\n",
    "\n",
    "def decoderData(x):\n",
    "    x = x.argmax(axis = -1)\n",
    "    return ''.join(alphabet[i] for i in x)"
   ]
  },
  {
   "cell_type": "code",
   "execution_count": 6,
   "metadata": {},
   "outputs": [
    {
     "name": "stdout",
     "output_type": "stream",
     "text": [
      "(40, 199)\n",
      "Tôi yêu bạn\u0000\u0000\u0000\u0000\u0000\u0000\u0000\u0000\u0000\u0000\u0000\u0000\u0000\u0000\u0000\u0000\u0000\u0000\u0000\u0000\u0000\u0000\u0000\u0000\u0000\u0000\u0000\u0000\u0000\n"
     ]
    }
   ],
   "source": [
    "print(encoderData('Tôi yêu bạn').shape)\n",
    "print(decoderData(encoderData('Tôi yêu bạn')))"
   ]
  },
  {
   "cell_type": "code",
   "execution_count": 7,
   "metadata": {},
   "outputs": [],
   "source": [
    "def nltkNGRAMS(words, n):\n",
    "    return ngrams(words.split(),n)"
   ]
  },
  {
   "cell_type": "code",
   "execution_count": 8,
   "metadata": {},
   "outputs": [],
   "source": [
    "def guess(ngram):\n",
    "    text = ' '.join(ngram)\n",
    "    preds = model.predict(np.array([encoderData(text)]))\n",
    "\n",
    "    return decoderData(preds[0]).strip('\\x00')"
   ]
  },
  {
   "cell_type": "code",
   "execution_count": 9,
   "metadata": {},
   "outputs": [
    {
     "name": "stdout",
     "output_type": "stream",
     "text": [
      "1/1 [==============================] - 2s 2s/step\n"
     ]
    },
    {
     "data": {
      "text/plain": [
       "'Xuwr ný nkoon nữữ'"
      ]
     },
     "execution_count": 9,
     "metadata": {},
     "output_type": "execute_result"
    }
   ],
   "source": [
    "guess(('Xuwr','ný','ngoon','ngữ'))"
   ]
  },
  {
   "cell_type": "code",
   "execution_count": 7,
   "metadata": {},
   "outputs": [],
   "source": [
    "def addPunctation(text, correctedText):\n",
    "    listPunctation = {}\n",
    "\n",
    "    for (i,word) in enumerate(text.split()):\n",
    "        if word[0] not in alphabet or word[-1] not in alphabet:\n",
    "            startPunc = ''\n",
    "            for c in word:\n",
    "                if c in alphabet:\n",
    "                    break\n",
    "                startPunc += c\n",
    "\n",
    "            endPunc = ''\n",
    "            for c in word:\n",
    "                if c in alphabet:\n",
    "                    break\n",
    "                endPunc += c\n",
    "            endPunc = endPunc[::-1]\n",
    "\n",
    "            listPunctation[i] = [startPunc,endPunc]\n",
    "\n",
    "    result = ''\n",
    "    for (i,word) in enumerate(correctedText.split()):\n",
    "        if i in listPunctation:\n",
    "            result += (listPunctation[i][0] + word + listPunctation[i][1]) + ' '\n",
    "        else:\n",
    "            result += word + ' '\n",
    "\n",
    "    return result.strip()"
   ]
  },
  {
   "cell_type": "code",
   "execution_count": 8,
   "metadata": {},
   "outputs": [],
   "source": [
    "def correctText(text):\n",
    "    newText = re.sub(r'[^' + ''.join(alphabet) + ']', '', text)\n",
    "\n",
    "    ngrams = list(nltkNGRAMS(newText,NGRAM,MAXLEN))\n",
    "    guessedNGRAMS = list(guess(ngram) for ngram in ngrams)\n",
    "    candidates = [Counter() for _ in range(len(guessedNGRAMS) + NGRAM - 1)]\n",
    "\n",
    "    for nid, ngram in (enumerate(guessedNGRAMS)):\n",
    "        for wid, word in (enumerate(re.split('\\s', ngram))):\n",
    "            candidates[nid+wid].update([word])\n",
    "\n",
    "    correctedText = ' '.join(c.most_common(1)[0][0] for c in candidates if c)\n",
    "    return addPunctation(text, correctedText)"
   ]
  },
  {
   "cell_type": "code",
   "execution_count": 9,
   "metadata": {},
   "outputs": [
    {
     "name": "stdout",
     "output_type": "stream",
     "text": [
      "1/1 [==============================] - 0s 37ms/step\n",
      "ỜửÈ vÉ Ễbạ\n"
     ]
    },
    {
     "data": {
      "text/plain": [
       "[('tôi', 'ỜửÈ'), ('yêu', 'vÉ'), ('bạn', 'Ễbạ')]"
      ]
     },
     "execution_count": 9,
     "metadata": {},
     "output_type": "execute_result"
    }
   ],
   "source": [
    "text = input()\n",
    "\n",
    "result = correctText(text)\n",
    "print(result)\n",
    "\n",
    "text = re.sub(r'[^' + ''.join(alphabet) + ']', '', text)\n",
    "listText = text.split()\n",
    "\n",
    "result = re.sub(r'[^' + ''.join(alphabet) + ']', '', result)\n",
    "listResult = result.split()\n",
    "\n",
    "correctWord = [(listText[i], listResult[i]) for i in range(len(listText)) if listText[i] != listResult[i]]\n",
    "correctWord"
   ]
  },
  {
   "cell_type": "code",
   "execution_count": 10,
   "metadata": {},
   "outputs": [],
   "source": [
    "from tkinter import *\n",
    "import tkinter\n",
    "\n",
    "\n",
    "\n",
    "window = Tk()\n",
    "window.title(\"Spell Correction\")\n",
    "window.geometry(\"800x600\")\n",
    "txt = Entry(window, width=100, font=('Times New Roman',12))\n",
    "txt.grid(column=0,row=0)"
   ]
  }
 ],
 "metadata": {
  "kernelspec": {
   "display_name": "Python 3",
   "language": "python",
   "name": "python3"
  },
  "language_info": {
   "codemirror_mode": {
    "name": "ipython",
    "version": 3
   },
   "file_extension": ".py",
   "mimetype": "text/x-python",
   "name": "python",
   "nbconvert_exporter": "python",
   "pygments_lexer": "ipython3",
   "version": "3.10.5"
  },
  "orig_nbformat": 4,
  "vscode": {
   "interpreter": {
    "hash": "2daa6c88faa66e226c755852904ef6f3c7f43da7c34cc68791ac993bb048e8a8"
   }
  }
 },
 "nbformat": 4,
 "nbformat_minor": 2
}
